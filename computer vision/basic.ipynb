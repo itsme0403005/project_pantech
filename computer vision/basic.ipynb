{
 "cells": [
  {
   "cell_type": "code",
   "execution_count": 1,
   "id": "c9cfa550",
   "metadata": {},
   "outputs": [],
   "source": [
    "# pip install opencv-python\n"
   ]
  },
  {
   "cell_type": "code",
   "execution_count": 2,
   "id": "038621a0",
   "metadata": {},
   "outputs": [],
   "source": [
    "# pip install imutils\n"
   ]
  },
  {
   "cell_type": "code",
   "execution_count": 3,
   "id": "29263896",
   "metadata": {},
   "outputs": [],
   "source": [
    "import cv2"
   ]
  },
  {
   "cell_type": "code",
   "execution_count": null,
   "id": "54043d7a",
   "metadata": {},
   "outputs": [],
   "source": [
    "# Read the image\n",
    "img = cv2.imread(\"sample.webp\")\n",
    "\n",
    "# Check if the image was successfully loaded\n",
    "if img is None:\n",
    "    print(\"Error: Image not found or path is incorrect.\")\n",
    "else:\n",
    "    # Save the image with a new name\n",
    "    cv2.imwrite(\"sample1.png\", img)\n",
    "\n",
    "    # Show the image\n",
    "    cv2.imshow(\"image.webp\", img)\n",
    "    cv2.waitKey(0)  # Wait for any key press\n",
    "    cv2.destroyAllWindows()  # Close all OpenCV windows\n"
   ]
  },
  {
   "cell_type": "code",
   "execution_count": null,
   "id": "c9bd3a16",
   "metadata": {},
   "outputs": [],
   "source": [
    "\n",
    "# Load the color image\n",
    "image = cv2.imread(\"sample.webp\")  # Replace \"image.jpg\" with your image path\n",
    "\n",
    "# Convert to grayscale\n",
    "gray_image = cv2.cvtColor(image, cv2.COLOR_BGR2GRAY)\n",
    "\n",
    "# Save the grayscale image (optional)\n",
    "cv2.imwrite(\"gray_image.jpg\", gray_image)\n",
    "\n",
    "# Show the grayscale image (optional)\n",
    "cv2.imshow(\"Grayscale Image\", gray_image)\n",
    "cv2.waitKey(0)\n",
    "cv2.destroyAllWindows()\n"
   ]
  },
  {
   "cell_type": "code",
   "execution_count": null,
   "id": "b2a3e4b4",
   "metadata": {},
   "outputs": [],
   "source": [
    "\n",
    "\n",
    "# Load color image\n",
    "image = cv2.imread(\"sample.webp\")\n",
    "\n",
    "# Convert to grayscale\n",
    "gray = cv2.cvtColor(image, cv2.COLOR_BGR2GRAY)\n",
    "\n",
    "# Convert grayscale to pure black and white using thresholding\n",
    "# 127 is the threshold value; 255 is max value for white\n",
    "_, bw = cv2.threshold(gray, 127, 255, cv2.THRESH_BINARY)\n",
    "\n",
    "# Save or display the result\n",
    "cv2.imwrite(\"black_and_white.jpg\", bw)\n",
    "\n",
    "cv2.imshow(\"Black & White\", bw)\n",
    "cv2.waitKey(0)\n",
    "cv2.destroyAllWindows()\n"
   ]
  },
  {
   "cell_type": "code",
   "execution_count": null,
   "id": "4ac6b2d7",
   "metadata": {},
   "outputs": [],
   "source": []
  }
 ],
 "metadata": {
  "kernelspec": {
   "display_name": "Python 3",
   "language": "python",
   "name": "python3"
  },
  "language_info": {
   "codemirror_mode": {
    "name": "ipython",
    "version": 3
   },
   "file_extension": ".py",
   "mimetype": "text/x-python",
   "name": "python",
   "nbconvert_exporter": "python",
   "pygments_lexer": "ipython3",
   "version": "3.11.5"
  }
 },
 "nbformat": 4,
 "nbformat_minor": 5
}
