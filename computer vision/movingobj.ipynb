{
 "cells": [
  {
   "cell_type": "code",
   "execution_count": 1,
   "id": "b388d003",
   "metadata": {},
   "outputs": [],
   "source": [
    "import cv2"
   ]
  },
  {
   "cell_type": "code",
   "execution_count": 2,
   "id": "29e0559f",
   "metadata": {},
   "outputs": [],
   "source": [
    "vs=cv2.VideoCapture(2)"
   ]
  },
  {
   "cell_type": "code",
   "execution_count": 3,
   "id": "77b4786d",
   "metadata": {},
   "outputs": [],
   "source": [
    "\n",
    "# Start webcam (0 is the default camera)\n",
    "vs = cv2.VideoCapture(0)\n",
    "\n",
    "while True:\n",
    "    success, img = vs.read()\n",
    "    if not success:\n",
    "        print(\"Failed to grab frame\")\n",
    "        break\n",
    "\n",
    "    cv2.imshow(\"Video Stream\", img)\n",
    "\n",
    "    key = cv2.waitKey(1) & 0xFF\n",
    "    if key == ord(\"q\"):\n",
    "        break\n",
    "\n",
    "# Clean up\n",
    "vs.release()\n",
    "cv2.destroyAllWindows()\n"
   ]
  },
  {
   "cell_type": "code",
   "execution_count": 4,
   "id": "ff650b31",
   "metadata": {},
   "outputs": [],
   "source": [
    "\n",
    "# Start video capture\n",
    "vs = cv2.VideoCapture(0)\n",
    "\n",
    "# Read the first frame\n",
    "ret, prev_frame = vs.read()\n",
    "prev_frame = cv2.cvtColor(prev_frame, cv2.COLOR_BGR2GRAY)\n",
    "prev_frame = cv2.GaussianBlur(prev_frame, (21, 21), 0)\n",
    "\n",
    "while True:\n",
    "    ret, frame = vs.read()\n",
    "    if not ret:\n",
    "        break\n",
    "\n",
    "    gray = cv2.cvtColor(frame, cv2.COLOR_BGR2GRAY)\n",
    "    gray = cv2.GaussianBlur(gray, (21, 21), 0)\n",
    "\n",
    "    # Find the absolute difference\n",
    "    diff = cv2.absdiff(prev_frame, gray)\n",
    "    thresh = cv2.threshold(diff, 25, 255, cv2.THRESH_BINARY)[1]\n",
    "    thresh = cv2.dilate(thresh, None, iterations=2)\n",
    "\n",
    "    # Find contours\n",
    "    contours, _ = cv2.findContours(thresh, cv2.RETR_EXTERNAL, cv2.CHAIN_APPROX_SIMPLE)\n",
    "\n",
    "    motion_detected = False\n",
    "\n",
    "    for contour in contours:\n",
    "        if cv2.contourArea(contour) < 500:\n",
    "            continue\n",
    "        motion_detected = True\n",
    "        (x, y, w, h) = cv2.boundingRect(contour)\n",
    "        cv2.rectangle(frame, (x, y), (x + w, y + h), (0, 255, 0), 2)\n",
    "\n",
    "    # Show status\n",
    "    status_text = \"Motion Detected\" if motion_detected else \"Normal\"\n",
    "    color = (0, 0, 255) if motion_detected else (0, 255, 0)\n",
    "    cv2.putText(frame, status_text, (10, 30), cv2.FONT_HERSHEY_SIMPLEX, 1, color, 2)\n",
    "\n",
    "    # Show result\n",
    "    cv2.imshow(\"Motion Detection\", frame)\n",
    "\n",
    "    key = cv2.waitKey(1) & 0xFF\n",
    "    if key == ord('q'): # press q for exit\n",
    "        break\n",
    "\n",
    "    prev_frame = gray\n",
    "\n",
    "# Cleanup\n",
    "vs.release()\n",
    "cv2.destroyAllWindows()\n"
   ]
  },
  {
   "cell_type": "code",
   "execution_count": null,
   "id": "7cbe845c",
   "metadata": {},
   "outputs": [],
   "source": []
  }
 ],
 "metadata": {
  "kernelspec": {
   "display_name": "Python 3",
   "language": "python",
   "name": "python3"
  },
  "language_info": {
   "codemirror_mode": {
    "name": "ipython",
    "version": 3
   },
   "file_extension": ".py",
   "mimetype": "text/x-python",
   "name": "python",
   "nbconvert_exporter": "python",
   "pygments_lexer": "ipython3",
   "version": "3.11.5"
  }
 },
 "nbformat": 4,
 "nbformat_minor": 5
}
